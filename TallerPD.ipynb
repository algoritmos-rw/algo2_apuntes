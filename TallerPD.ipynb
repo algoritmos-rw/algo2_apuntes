{
 "cells": [
  {
   "cell_type": "markdown",
   "metadata": {
    "deletable": true,
    "editable": true,
    "slideshow": {
     "slide_type": "skip"
    }
   },
   "source": [
    "# Ver la versión interactiva en https://algoritmos-rw.github.io/algo2_apuntes/TallerPD.slides.html !!!"
   ]
  },
  {
   "cell_type": "markdown",
   "metadata": {
    "deletable": true,
    "editable": true,
    "slideshow": {
     "slide_type": "slide"
    }
   },
   "source": [
    "# Programación Dinámica: or How I Learned to Stop Worrying and Love the Recurrencia\n",
    "\n",
    "Código en https://algoritmos-rw.github.io/algo2_apuntes/TallerPD.ipynb\n",
    "\n",
    "La programación dinámica es una _heurística_ de programación, una forma de pensar y encarar problemas. En los términos más básicos puede reducirse a **resolver un problema en base a los problemas anteriores.** \n",
    "\n",
    "## Cuando puedo usar PD?\n",
    "* Superposición de problemas: La solución de un problema me sirve para resolver mi futuro problema.\n",
    "\n",
    "  * Si no tengo esto, **no puedo** aplicar PD\n",
    "\n",
    "## Cuando me conviene usar PD?\n",
    "* Subestructura optima: La combinación de resultados óptimos para mis subproblemas me da el resultado total óptimo.\n",
    "\n",
    "  * Si bien esto no es obligatorio, siempre esta bueno tener la solución óptima a un problema."
   ]
  },
  {
   "cell_type": "markdown",
   "metadata": {
    "deletable": true,
    "editable": true,
    "slideshow": {
     "slide_type": "subslide"
    }
   },
   "source": [
    "## Tipos de PD:\n",
    "* Top Down (memoization): Empezando desde mi problema, cada vez que voy a utilizar un resultado anterior me pregunto si ya lo tengo guardado. Si no lo esta, lo genero y lo guardo en memoria\n",
    "\n",
    "* Bottom Up (tabulation): Empezando desde el problema más chico posible, empiezo a iterar todos los problemas posibles 'para arriba'. Así, siempre voy a tener toda la información guardada (a costo de espacio). Una vez que llego al problema original, resuelvo teniendo en cuenta lo anterior. --> **Este es el visto en este taller**"
   ]
  },
  {
   "cell_type": "markdown",
   "metadata": {
    "deletable": true,
    "editable": true,
    "slideshow": {
     "slide_type": "slide"
    }
   },
   "source": [
    "## Pasos para resolver cualquier tipo de problema (Bottom Up)\n",
    "\n",
    "Quiero sacar el factorial de 5. El factorial de 5 es 5 multiplicado al factorial de 4. El factorial de 4 es 4 multiplicado al factorial de 3... etc. \n",
    "\n",
    "La estrategia es la de guardar cada uno de esos resultados en una lista incremental (`DP`) donde cada elemento es la solución al problema en ese indice. Siguiendo el ejemplo, en `DP[1]` guardo el factorial de 1; en `DP[2]` guardo el factorial de 2; así, hasta llegar a `DP[5]`, que es el problema a resolver.\n",
    "\n"
   ]
  },
  {
   "cell_type": "markdown",
   "metadata": {
    "deletable": true,
    "editable": true,
    "slideshow": {
     "slide_type": "subslide"
    }
   },
   "source": [
    "## Ecuación de recurrencia \n",
    "\n",
    "La ecuación de recurrencia se compone de dos partes\n",
    "\n",
    "1. Valores Iniciales: Cuál es el problema más chico posible y cual es su solución? (En analogía a D&C, esto es 'el caso base')\n",
    "\n",
    "2. Relacion de recurrencia: Como se relaciona una solución con las soluciones previas?\n",
    "\n",
    "\\begin{equation}\n",
    "  DP[i]=\\begin{cases}\n",
    "    \\text{Valores iniciales} & \\text{if todo normal}.\\\\ \\\\\n",
    "    \\text{Relación de recurrencia} & \\text{if condición}. \n",
    "  \\end{cases}\n",
    "\\end{equation}"
   ]
  },
  {
   "cell_type": "markdown",
   "metadata": {
    "deletable": true,
    "editable": true,
    "slideshow": {
     "slide_type": "fragment"
    }
   },
   "source": [
    "### Preguntas a hacerse:\n",
    "\n",
    "* Cuales son mis valores iniciales/casos base? Cual es la forma en la que resuelvo el problema mas chico posible?\n",
    "* Cuales son mis otros casos?\n",
    "* Como defino entre ambos?"
   ]
  },
  {
   "cell_type": "markdown",
   "metadata": {
    "deletable": true,
    "editable": true,
    "slideshow": {
     "slide_type": "slide"
    }
   },
   "source": [
    "## Ejemplo: Factorial de x\n",
    "\n",
    "### Puedo usar PD?\n",
    "\n",
    "Si: el factorial de x depende del factorial de los anteriores a x.\n",
    "\n",
    "### Ecuación de recurrencia\n",
    "\n",
    "* Cual es mi caso base / valor inicial?\n",
    "    * Factorial de 0 = 1\n",
    "    * Factorial de 1 = 1\n",
    "   \n",
    "* Cuales son mis otros valores? \n",
    "    * Factorial de i = i * factorial de i-1\n",
    "   \n",
    "* Como defino entre ambos?\n",
    "    * Si i = 0 o i = 1 --> valor inicial\n",
    "    * Si i > 1 --> valor no inicial"
   ]
  },
  {
   "cell_type": "markdown",
   "metadata": {
    "deletable": true,
    "editable": true,
    "slideshow": {
     "slide_type": "subslide"
    }
   },
   "source": [
    "\\begin{equation}\n",
    "  DP[i]=\\begin{cases}\n",
    "    1 & \\text{if i == 0 || i == 1}.\\\\ \\\\\n",
    "    i * DP[i-1] & \\text{if i > 1}.\n",
    "  \\end{cases}\n",
    "\\end{equation}"
   ]
  },
  {
   "cell_type": "code",
   "execution_count": 1,
   "metadata": {
    "collapsed": false,
    "deletable": true,
    "editable": true,
    "slideshow": {
     "slide_type": "fragment"
    }
   },
   "outputs": [
    {
     "name": "stdout",
     "output_type": "stream",
     "text": [
      "[1, 1, 2, 6, 24, 120]\n"
     ]
    },
    {
     "data": {
      "text/plain": [
       "120"
      ]
     },
     "execution_count": 1,
     "metadata": {},
     "output_type": "execute_result"
    }
   ],
   "source": [
    "def factorial(x):\n",
    "    dp = [None] * (x+1)\n",
    "    for i in range(len(dp)):\n",
    "        if i == 0 or i == 1:\n",
    "            dp[i] = 1\n",
    "        if i > 1:\n",
    "            dp[i] = dp[i-1] * i\n",
    "    print(dp)\n",
    "    return dp[x]\n",
    "\n",
    "factorial(5)"
   ]
  },
  {
   "cell_type": "markdown",
   "metadata": {
    "deletable": true,
    "editable": true,
    "slideshow": {
     "slide_type": "fragment"
    }
   },
   "source": [
    "**Complejidad: $O(n)$** "
   ]
  },
  {
   "cell_type": "markdown",
   "metadata": {
    "deletable": true,
    "editable": true,
    "slideshow": {
     "slide_type": "slide"
    }
   },
   "source": [
    "## Código -> Creo, recorro, resuelvo, devuelvo\n",
    "\n",
    "1. Creo una lista (o diccionario) del tamaño de problemas que voy a tener donde guardo los resultados.\n",
    "\n",
    "    * Tengo un arreglo de longitud n --> Tengo n problemas\n",
    "\n",
    "    * Tengo que resolver como hacer algo la 5ta vez --> Tengo 5 problemas\n",
    "\n",
    "2. Recorro mis problemas.\n",
    "\n",
    "3. Resuelvo mis problemas, con mi ecuacion de recurrencia.\n",
    "\n",
    "4. Devuelvo lo pedido."
   ]
  },
  {
   "cell_type": "markdown",
   "metadata": {
    "deletable": true,
    "editable": true,
    "slideshow": {
     "slide_type": "slide"
    }
   },
   "source": [
    "## Problema 0: Buscar el máximo de un arreglo\n",
    "\n",
    "### Ecuación de recurrencia\n",
    "\n",
    "* Cual es mi caso base? \n",
    "    * Mi problema más chico: Un arreglo de longitud 1\n",
    "        * Maximo de [3] es 3\n",
    "        * Maximo de [4] es 4\n",
    "        \n",
    "    **Caso base: DP[0] = arr[0]**\n",
    "    \n",
    "    \n",
    "* Cuales son mis otros casos?\n",
    "    * El elemento anterior a mi es mas grande que yo\n",
    "    <br>**Caso no base: DP[i] = DP[i-1]**\n",
    "\n",
    "    * Soy mas grande que mi elemento anterior\n",
    "    <br>**Caso no base: DP[i] = arr[i]**\n",
    "    \n",
    "    \n",
    "* Como defino entre ambos?\n",
    "    * Si estoy en el primer elemento/lista de largo 1 -- > Caso base\n",
    "    * Si no --> Caso no base"
   ]
  },
  {
   "cell_type": "markdown",
   "metadata": {
    "deletable": true,
    "editable": true,
    "slideshow": {
     "slide_type": "subslide"
    }
   },
   "source": [
    "\\begin{equation}\n",
    "  DP[i]=\\begin{cases}\n",
    "    arr[0] & \\text{if i==0}.\\\\ \\\\\n",
    "    arr[i] & \\text{if arr[i] > DP[i-1]}.\\\\ \\\\\n",
    "    DP[i-1] & \\text{if DP[i-1] > arr[i]}.\n",
    "  \\end{cases}\n",
    "\\end{equation}"
   ]
  },
  {
   "cell_type": "code",
   "execution_count": 1,
   "metadata": {
    "collapsed": false,
    "deletable": true,
    "editable": true,
    "slideshow": {
     "slide_type": "fragment"
    }
   },
   "outputs": [
    {
     "name": "stdout",
     "output_type": "stream",
     "text": [
      "[1]\n",
      "[1, 5, 5]\n",
      "[1, 5, 5, 5, 5, 21, 21, 21]\n"
     ]
    },
    {
     "data": {
      "text/plain": [
       "21"
      ]
     },
     "execution_count": 1,
     "metadata": {},
     "output_type": "execute_result"
    }
   ],
   "source": [
    "def maximo(arr):\n",
    "    dp = [0] * len(arr)                 #Creo\n",
    "    dp[0] = arr[0]                      #Seteo Valor inicial\n",
    "    for i in range(len(dp)):            #Recorro\n",
    "        if arr[i] > dp[i-1]:\n",
    "            dp[i] = arr[i]\n",
    "        if dp[i-1] > arr[i]:\n",
    "            dp[i] = dp[i-1]             #Resuelvo\n",
    "    print(dp)\n",
    "    return dp[-1]                       #Devuelvo\n",
    "\n",
    "maximo([1])\n",
    "maximo([1,5,2])\n",
    "maximo([1,5,2,3,-2,21,10,3])"
   ]
  },
  {
   "cell_type": "markdown",
   "metadata": {
    "deletable": true,
    "editable": true,
    "slideshow": {
     "slide_type": "fragment"
    }
   },
   "source": [
    "**Complejidad: $O(n)$** "
   ]
  },
  {
   "cell_type": "markdown",
   "metadata": {
    "deletable": true,
    "editable": true,
    "slideshow": {
     "slide_type": "slide"
    }
   },
   "source": [
    "## Tips y cuidados!!\n",
    "\n",
    "* El caso base suele ser 0, 1, infinito, o el arreglo mismo\n",
    "\n",
    "* Es mucho más facil si inicializo directamente en mi caso base, y evitar ese if extra\n",
    "\n",
    "    ```\n",
    "    Si el caso base es el arreglo mismo: dp = copy.copy(arr)\n",
    "    Si el caso base es 0: dp = [0] * len(arr)\n",
    "    Si el caso base es 1: dp = [1] * len(arr)\n",
    "    Si el caso base es infinito: dp = [math.inf] * len(arr)\n",
    "    ```       "
   ]
  },
  {
   "cell_type": "markdown",
   "metadata": {
    "deletable": true,
    "editable": true,
    "slideshow": {
     "slide_type": "subslide"
    }
   },
   "source": [
    "* Muchas veces puedo reescribir mi ecuacion de recurrencia, ya que solo pregunto quien es más grande/chico\n",
    "\n",
    "    * Ej, buscando el máximo: \n",
    "    \n",
    "        ```\n",
    "        Si el caso base es mayor al problema anterior:\n",
    "            resultado = caso base\n",
    "        Si no:\n",
    "            resultado = caso no base\n",
    "        ```\n",
    "    \n",
    "    Puede ser escrito como:\n",
    "    \n",
    "        ```resultado = maximo(actual, anterior)```"
   ]
  },
  {
   "cell_type": "markdown",
   "metadata": {
    "deletable": true,
    "editable": true,
    "slideshow": {
     "slide_type": "subslide"
    }
   },
   "source": [
    "* Ojo! No siempre tengo que devolver el último resultado:\n",
    "    * Encontrar la maxima ganancia para 100 ventas --> Me piden el resultado en 100\n",
    "    * Encontrar la maxima ganancia para cualquier venta, hasta 100 --> Me piden el maximo de mis resultados\n",
    "    \n",
    "* La devolucion suele ser: `min(dp), max(dp), dp[-1], dp[0], dp[n]`"
   ]
  },
  {
   "cell_type": "code",
   "execution_count": 3,
   "metadata": {
    "collapsed": false,
    "deletable": true,
    "editable": true,
    "slideshow": {
     "slide_type": "subslide"
    }
   },
   "outputs": [
    {
     "data": {
      "text/plain": [
       "21"
      ]
     },
     "execution_count": 3,
     "metadata": {},
     "output_type": "execute_result"
    }
   ],
   "source": [
    "from copy import copy\n",
    "def maximo_refactorizado(arr):\n",
    "    dp = copy(arr)                          #Creo\n",
    "    for i in range(1,len(dp)):              #Recorro\n",
    "        dp[i] = max(dp[i],dp[i-1])          #Resuelvo\n",
    "    return dp[-1]                           #Devuelvo\n",
    "\n",
    "maximo_refactorizado([1,5,2,3,-2,21,10,3])"
   ]
  },
  {
   "cell_type": "markdown",
   "metadata": {
    "deletable": true,
    "editable": true,
    "slideshow": {
     "slide_type": "skip"
    }
   },
   "source": [
    "---\n",
    "---"
   ]
  },
  {
   "cell_type": "markdown",
   "metadata": {
    "deletable": true,
    "editable": true,
    "slideshow": {
     "slide_type": "slide"
    }
   },
   "source": [
    "## Problema 1: Fibonacci\n",
    "\n",
    "> Se llaman números de Fibonacci a aquellos que forman parte de la sucesión infinita de números naturales donde cada número se calcula sumando los dos anteriores a él. \n",
    "\n",
    "Esta sucesión fue descrita por Fibonacci como la solución a un problema de cría de conejos: \n",
    "\n",
    "> “Cierto hombre tiene una pareja de conejos juntos en un lugar cerrado y desea saber cuántos son creados a partir de este par en un año cuando, de acuerdo a su naturaleza, cada pareja necesita un mes para envejecer y cada mes posterior procrea otra pareja” "
   ]
  },
  {
   "cell_type": "markdown",
   "metadata": {
    "deletable": true,
    "editable": true,
    "slideshow": {
     "slide_type": "subslide"
    }
   },
   "source": [
    "\\begin{equation}\n",
    "  DP[i]=\\begin{cases}\n",
    "    1 & \\text{if $i==0$ or $i==1$}.\\\\ \\\\\n",
    "    DP[i-1]+DP[i-2] & \\text{else}.\n",
    "  \\end{cases}\n",
    "\\end{equation}"
   ]
  },
  {
   "cell_type": "code",
   "execution_count": 4,
   "metadata": {
    "collapsed": false,
    "deletable": true,
    "editable": true,
    "slideshow": {
     "slide_type": "fragment"
    }
   },
   "outputs": [
    {
     "data": {
      "text/plain": [
       "[1, 1, 2, 3, 5, 8, 13, 21, 34, 55]"
      ]
     },
     "execution_count": 4,
     "metadata": {},
     "output_type": "execute_result"
    }
   ],
   "source": [
    "def fibonacci(n):\n",
    "    dp = [1] * n\n",
    "    for i in range(2,len(dp)):\n",
    "        dp[i] = dp[i-1]+dp[i-2]\n",
    "    return dp\n",
    "\n",
    "fibonacci(10)"
   ]
  },
  {
   "cell_type": "markdown",
   "metadata": {
    "deletable": true,
    "editable": true,
    "slideshow": {
     "slide_type": "fragment"
    }
   },
   "source": [
    "**Complejidad: $O(n)$** "
   ]
  },
  {
   "cell_type": "markdown",
   "metadata": {
    "deletable": true,
    "editable": true,
    "slideshow": {
     "slide_type": "slide"
    }
   },
   "source": [
    "## Problema 2a: Longest Increasing Subsequence (LIS)\n",
    "\n",
    "> Dado un arreglo, encontrar la longitud del mayor subarreglo incremental (no necesariamente contiguo). \n",
    "\n",
    "Por ejemplo: `LIS([1,-1, 4, 5, 3])` --> Devuelve 3, que es la longitud del subarreglo `[1,4,5]`"
   ]
  },
  {
   "cell_type": "markdown",
   "metadata": {
    "deletable": true,
    "editable": true,
    "slideshow": {
     "slide_type": "subslide"
    }
   },
   "source": [
    "\\begin{equation}\n",
    "  DP[i]=\\begin{cases}\n",
    "    DP[j]+1 & \\text{if existe DP[j] (con $j=0,..,i$) mas grande que DP[i]}.\\\\ \\\\\n",
    "    1 & \\text{else}\n",
    "\\end{cases}\n",
    "\\end{equation}"
   ]
  },
  {
   "cell_type": "code",
   "execution_count": 5,
   "metadata": {
    "collapsed": false,
    "deletable": true,
    "editable": true,
    "slideshow": {
     "slide_type": "fragment"
    }
   },
   "outputs": [
    {
     "name": "stdout",
     "output_type": "stream",
     "text": [
      "[1, 1, 2, 3, 2]\n"
     ]
    },
    {
     "data": {
      "text/plain": [
       "3"
      ]
     },
     "execution_count": 5,
     "metadata": {},
     "output_type": "execute_result"
    }
   ],
   "source": [
    "def LIS(arr):\n",
    "    dp = [1] * len(arr)\n",
    "    for i in range(len(dp)):\n",
    "        for j in range(i):\n",
    "            if arr[j] < arr[i]:\n",
    "                dp[i] = max(dp[i],dp[j]+1)\n",
    "    print(dp)\n",
    "    return max(dp)\n",
    "\n",
    "\n",
    "LIS([1,-1,4,5,3])"
   ]
  },
  {
   "cell_type": "markdown",
   "metadata": {
    "deletable": true,
    "editable": true,
    "slideshow": {
     "slide_type": "fragment"
    }
   },
   "source": [
    "**Complejidad: $O(n^2)$** "
   ]
  },
  {
   "cell_type": "markdown",
   "metadata": {
    "deletable": true,
    "editable": true,
    "slideshow": {
     "slide_type": "slide"
    }
   },
   "source": [
    "## Problema 2b: Longest Contiguous Increasing Subsequence\n",
    "\n",
    "> Dado un arreglo, encontrar la longitud del mayor subarreglo incremental contiguo. \n",
    "\n",
    "Por ejemplo: `LCIS([1, 8, 4, 2, 1])` --> Devuelve 2, que es la longitud del subarreglo `[1,8]`"
   ]
  },
  {
   "cell_type": "markdown",
   "metadata": {
    "deletable": true,
    "editable": true,
    "slideshow": {
     "slide_type": "subslide"
    }
   },
   "source": [
    "\\begin{equation}\n",
    "  DP[i]=\\begin{cases}\n",
    "    DP[i-1]+1 & \\text{if \\(i \\neq 0\\) && \\(arr[i-1]<arr[i]\\) }.\\\\ \\\\\n",
    "    1 & \\text{else}\n",
    "\\end{cases}\n",
    "\\end{equation}"
   ]
  },
  {
   "cell_type": "code",
   "execution_count": 6,
   "metadata": {
    "collapsed": false,
    "deletable": true,
    "editable": true,
    "slideshow": {
     "slide_type": "fragment"
    }
   },
   "outputs": [
    {
     "name": "stdout",
     "output_type": "stream",
     "text": [
      "[1, 2, 1, 1, 1]\n"
     ]
    },
    {
     "data": {
      "text/plain": [
       "2"
      ]
     },
     "execution_count": 6,
     "metadata": {},
     "output_type": "execute_result"
    }
   ],
   "source": [
    "def LCIS(arr):\n",
    "    dp = [1] * len(arr)\n",
    "    for i in range(1,len(dp)):\n",
    "        if arr[i-1]<arr[i]: \n",
    "            dp[i] = max(dp[i],dp[i-1]+1)\n",
    "    print(dp)\n",
    "    return max(dp)\n",
    "\n",
    "LCIS([1, 8, 4, 2, 1])"
   ]
  },
  {
   "cell_type": "markdown",
   "metadata": {
    "deletable": true,
    "editable": true,
    "slideshow": {
     "slide_type": "fragment"
    }
   },
   "source": [
    "**Complejidad: $O(n)$** "
   ]
  },
  {
   "cell_type": "markdown",
   "metadata": {
    "deletable": true,
    "editable": true,
    "slideshow": {
     "slide_type": "slide"
    }
   },
   "source": [
    "## Problema 3: Mayor suma de subarreglo contiguo incremental\n",
    "    \n",
    "> Dado un arreglo, encontrar el valor maximo posible para la suma de un subarreglo contiguo (ventana) incremental\n",
    "\n",
    "Ej: sumatoria_ventana_incremental([3,-1,-5,6,7,3,-9]) da 13 (de sumar [6,7])"
   ]
  },
  {
   "cell_type": "markdown",
   "metadata": {
    "deletable": true,
    "editable": true,
    "slideshow": {
     "slide_type": "subslide"
    }
   },
   "source": [
    "\\begin{equation}\n",
    "  DP[i]=\\begin{cases}\n",
    "    DP[i-1]+DP[i] & \\text{if \\(DP[i-1]+DP[i]>DP[i]\\) && \\(arr[i-1]<arr[i]\\)}. \\\\ \\\\\n",
    "    arr[i] & \\text{else}.\n",
    "\\end{cases}\n",
    "\\end{equation}"
   ]
  },
  {
   "cell_type": "code",
   "execution_count": 7,
   "metadata": {
    "collapsed": false,
    "deletable": true,
    "editable": true,
    "slideshow": {
     "slide_type": "fragment"
    }
   },
   "outputs": [
    {
     "name": "stdout",
     "output_type": "stream",
     "text": [
      "[3, -1, -5, 6, 13, 3, -9]\n"
     ]
    },
    {
     "data": {
      "text/plain": [
       "13"
      ]
     },
     "execution_count": 7,
     "metadata": {},
     "output_type": "execute_result"
    }
   ],
   "source": [
    "def sumatoria_ventana_incremental(arr):\n",
    "    dp = copy(arr)\n",
    "    for i in range(len(dp)):\n",
    "        if arr[i-1] <= arr[i]:\n",
    "            dp[i] = max(dp[i-1]+dp[i],dp[i])\n",
    "    print(dp)\n",
    "    return max(dp)\n",
    "\n",
    "sumatoria_ventana_incremental([3,-1,-5,6,7,3,-9])"
   ]
  },
  {
   "cell_type": "markdown",
   "metadata": {
    "deletable": true,
    "editable": true,
    "slideshow": {
     "slide_type": "fragment"
    }
   },
   "source": [
    "**Complejidad: $O(n)$** "
   ]
  },
  {
   "cell_type": "markdown",
   "metadata": {
    "deletable": true,
    "editable": true,
    "slideshow": {
     "slide_type": "slide"
    }
   },
   "source": [
    "## Problema 4: El problema del cambio\n",
    "\n",
    "> Dado un arreglo de valores de monedas, y un valor N, encontrar la menor cantidad de monedas necesarias para representar N.\n",
    "\n",
    "Ej: Para 4 pesos y monedas de 1, 2 y 3, la solucion es 2: dar dos monedas de 2. Para 3 pesos, la solucion es 1, solo dar la moneda de 3 ."
   ]
  },
  {
   "cell_type": "markdown",
   "metadata": {
    "deletable": true,
    "editable": true,
    "slideshow": {
     "slide_type": "subslide"
    }
   },
   "source": [
    "\\begin{equation}\n",
    "  DP[i]=\\begin{cases}\n",
    "    1 & \\text{if moneda de i existe}. \\\\\n",
    "    \\infty & \\text{if i mayor a todas las monedas}. \\\\ \\\\\n",
    "    \\text{\\(min(DP[i-m]+1)\\)} & \\text{else} \\\\ \\text{con m en lista de monedas}.\n",
    "\\end{cases}\n",
    "\\end{equation}\n",
    "\n"
   ]
  },
  {
   "cell_type": "code",
   "execution_count": 8,
   "metadata": {
    "collapsed": false,
    "deletable": true,
    "editable": true,
    "slideshow": {
     "slide_type": "fragment"
    }
   },
   "outputs": [
    {
     "name": "stdout",
     "output_type": "stream",
     "text": [
      "1\n",
      "2\n"
     ]
    }
   ],
   "source": [
    "from math import inf\n",
    "\n",
    "def cambio(arr, n):\n",
    "    dp = [inf]*(n+1)\n",
    "    for i in range(n+1):\n",
    "        for moneda in arr:\n",
    "            if i == moneda:\n",
    "                dp[i] = 1\n",
    "            if i > moneda:\n",
    "                dp[i] = min(dp[i], dp[i - moneda] + 1)\n",
    "    return dp[n]\n",
    "\n",
    "print(cambio([1,2,3], 3))\n",
    "print(cambio([1,2,3], 4))"
   ]
  },
  {
   "cell_type": "markdown",
   "metadata": {
    "deletable": true,
    "editable": true,
    "slideshow": {
     "slide_type": "fragment"
    }
   },
   "source": [
    "**Complejidad: $O(n * len(arreglo)$** "
   ]
  },
  {
   "cell_type": "markdown",
   "metadata": {
    "deletable": true,
    "editable": true,
    "slideshow": {
     "slide_type": "slide"
    }
   },
   "source": [
    "## Problema 5: Cortando una Soga\n",
    "\n",
    ">Dada una soga de n centimetros y un arreglo de a cuanto se puede vender cada soga mas chica que ella, encontrar la mayor ganancia que puedo obtener de vender la soga, teniendo en cuenta que puedo cortarla todas las veces que quiero.\n",
    "\n",
    "Por ejemplo: Para una soga de 4 centimetros con precios `[1,5,8,9,10,17,17,20]`, el valor máximo que puedo obtener es 10, cortandola en 2 y vendiendo dos sogas de 2cm cada una."
   ]
  },
  {
   "cell_type": "markdown",
   "metadata": {
    "deletable": true,
    "editable": true,
    "slideshow": {
     "slide_type": "subslide"
    }
   },
   "source": [
    "\\begin{equation}\n",
    "  DP[i]=\\begin{cases}\n",
    "    DP[i-j-1]+precios[j] & \\text{if \\(DP[i-j-1]+precios[j] > arr[i]\\)} \\\\ & \\text{con j entre 0 e i }. \\\\ \\\\\n",
    "    arr[i] & \\text{else} \\\\ & \\text{(ya que toda soga la puedo vender por su precio original)}.\n",
    "\\end{cases}\n",
    "\\end{equation}"
   ]
  },
  {
   "cell_type": "code",
   "execution_count": 9,
   "metadata": {
    "collapsed": false,
    "deletable": true,
    "editable": true,
    "slideshow": {
     "slide_type": "fragment"
    }
   },
   "outputs": [
    {
     "data": {
      "text/plain": [
       "10"
      ]
     },
     "execution_count": 9,
     "metadata": {},
     "output_type": "execute_result"
    }
   ],
   "source": [
    "def cortar_soga(precios,n):\n",
    "    dp = copy(precios[:n])\n",
    "    for i in range(n):\n",
    "        for j in range(i):\n",
    "            dp[i] = max(dp[i],precios[j]+ dp[i-j-1])\n",
    "    #print(dp)\n",
    "    return dp[-1]\n",
    "\n",
    "cortar_soga([1,5,8,9,10,17,17,20],4)"
   ]
  },
  {
   "cell_type": "markdown",
   "metadata": {
    "deletable": true,
    "editable": true,
    "slideshow": {
     "slide_type": "fragment"
    }
   },
   "source": [
    "**Complejidad: $O(n^2)$** "
   ]
  },
  {
   "cell_type": "markdown",
   "metadata": {
    "deletable": true,
    "editable": true,
    "slideshow": {
     "slide_type": "slide"
    }
   },
   "source": [
    "## Matrices: Problemas con dos parametros o más\n",
    "\n",
    "Hasta ahora solo hicimos problemas donde se tenga en cuenta un solo parametro. Es por eso que veníamos trabajando con lista de resultados. Cual es mi solución en 1, en 2, en 3... en i. Pero, y si tengo dos parametros variables? Cual es mi solución en i,j?\n",
    "\n",
    "\\begin{equation}\n",
    "  DP(i,j)=\\begin{cases}\n",
    "    ... & ... \\\\\n",
    "    ... & ...\n",
    "\\end{cases}\n",
    "\\end{equation}"
   ]
  },
  {
   "cell_type": "markdown",
   "metadata": {
    "deletable": true,
    "editable": true,
    "slideshow": {
     "slide_type": "slide"
    }
   },
   "source": [
    "## Problema 6: Subset Sum\n",
    "\n",
    "> Dada una lista de números y un número n, devolver verdadero si existe un subconjunto que sume exactamente n.\n",
    "\n",
    "Ej: Puedo sumar 9 con el arreglo `[1,3,2,5,7]` ? Si, porque puedo sumar 2 + 7 o 1+3+5. "
   ]
  },
  {
   "cell_type": "markdown",
   "metadata": {
    "deletable": true,
    "editable": true,
    "slideshow": {
     "slide_type": "subslide"
    }
   },
   "source": [
    "Primero, hago una matriz de n columnas y l filas (l siendo la longitud del arreglo). Esto representara lo siguiente:\n",
    "\n",
    "|   Arreglo   | 1 | 2 | 3 | 4 | 5 | 6 | 7 | 8 | 9 |\n",
    "|-------------|---|---|---|---|---|---|---|---|---|\n",
    "| [1]         |   |   |   |   |   |   |   |   |   |\n",
    "| [1,3]       |   |   |   |   |   |   |   |   |   |\n",
    "| [1,3,2]     |   |   |   |   |   |   |   |   |   |\n",
    "| [1,3,2,5]   |   |   |   |   |   |   |   |   |   |\n",
    "| [1,3,2,5,7] |   |   |   |   |   |   |   |   |   |\n",
    "\n",
    "Esta matriz la poblaremos de Verdaderos o Falsos, dependiendo de si el arreglo de la fila puede sumar el número de la columna. Para esto, diseñamos nuestra ecuación de recurrencia. Notemos que hay varios casos.\n",
    "\n",
    "* Si la lista actual contiene al número, entonces puedo sumar a el --> Verdadero (`[1,3]` puede sumar 3)\n",
    "* Si la lista anterior a mi pudo sumar al número, entonces la lista actual tambien puede --> Verdadero (Como `[1,3]` puede sumar 3, `[1,3,2]` también)\n",
    "* Si le saco el último a la lista y puedo sumar al número menos el sacado --> Verdadero (`[1,3,2]` puede sumar 5, ya que `[1,3]` puede sumar 5-2)"
   ]
  },
  {
   "cell_type": "markdown",
   "metadata": {
    "deletable": true,
    "editable": true,
    "slideshow": {
     "slide_type": "subslide"
    }
   },
   "source": [
    "\\begin{equation}\n",
    "  DP(i,j)=\\begin{cases}\n",
    "    True & \\text{if j en la fila i}. \\\\\n",
    "    True & \\text{if dp[i-1][j] == True (la fila anterior en la misma columna) }. \\\\\n",
    "    True & \\text{if la fila anterior en la columna j-arreglo[i] == True }. \\\\\n",
    "    False & \\text{else}.\n",
    "\\end{cases}\n",
    "\\end{equation}\n",
    "\n"
   ]
  },
  {
   "cell_type": "markdown",
   "metadata": {
    "deletable": true,
    "editable": true,
    "slideshow": {
     "slide_type": "subslide"
    }
   },
   "source": [
    "Eventualmente, nos quedara la siguiente matriz:\n",
    "\n",
    "|   Arreglo   | 1 | 2 | 3 | 4 | 5 | 6 | 7 | 8 | 9 |\n",
    "|-------------|---|---|---|---|---|---|---|---|---|\n",
    "| [1]         | T | F | F | F | F | F | F | F | F |\n",
    "| [1,3]       | T | F | T | T | F | F | F | F | F |\n",
    "| [1,3,2]     | T | T | T | T | T | T | F | F | F |\n",
    "| [1,3,2,5]   | T | T | T | T | T | T | T | T | T |\n",
    "| [1,3,2,5,7] | T | T | T | T | T | T | T | T | T |\n",
    "\n",
    "Y finalmente, devolvemos lo pedido. Analogamente a cuando devolviamos el último valor de nuestra lista (`DP[n]`), ahora devolvemos el valor de abajo a la derecha de nuestra matriz, es decir, `DP[l,n]`. En este ejemplo, verdadero."
   ]
  },
  {
   "cell_type": "code",
   "execution_count": 28,
   "metadata": {
    "collapsed": false,
    "deletable": true,
    "editable": true,
    "slideshow": {
     "slide_type": "subslide"
    }
   },
   "outputs": [
    {
     "data": {
      "text/plain": [
       "[[False, False, False, False, False, False, False, False, False, False],\n",
       " [False, True, False, False, False, False, False, False, False, False],\n",
       " [False, True, False, True, True, False, False, False, False, False],\n",
       " [False, True, True, True, True, True, True, False, False, False],\n",
       " [False, True, True, True, True, True, True, True, True, True],\n",
       " [False, True, True, True, True, True, True, True, True, True]]"
      ]
     },
     "metadata": {},
     "output_type": "display_data"
    },
    {
     "data": {
      "text/plain": [
       "True"
      ]
     },
     "execution_count": 28,
     "metadata": {},
     "output_type": "execute_result"
    }
   ],
   "source": [
    "def subset_sum(arr,n):\n",
    "    columnas = n + 1\n",
    "    filas = len(arr) + 1\n",
    "    dp = [[False] * columnas for i in range(filas)]\n",
    "    for i in range(filas):\n",
    "        for j in range(columnas):\n",
    "            if not arr[:i] or j == 0: continue\n",
    "            if arr[i-1] == j:\n",
    "                dp[i][j] = True\n",
    "            if dp[i-1][j] == True:\n",
    "                dp[i][j] = True\n",
    "            if dp[i-1][j-arr[i-1]] == True:\n",
    "                dp[i][j] = True\n",
    "    display(dp)\n",
    "    return dp[len(arr)][n]\n",
    "    \n",
    "subset_sum([1,3,2,5,7],9)"
   ]
  },
  {
   "cell_type": "markdown",
   "metadata": {
    "deletable": true,
    "editable": true,
    "slideshow": {
     "slide_type": "fragment"
    }
   },
   "source": [
    "**Complejidad: $O(\\text{elementos en matriz})== O(suma * len(arreglo))$** \n"
   ]
  },
  {
   "cell_type": "markdown",
   "metadata": {
    "deletable": true,
    "editable": true,
    "slideshow": {
     "slide_type": "subslide"
    }
   },
   "source": [
    "**Complejidad: $O(\\text{elementos en matriz})== O(suma * len(arreglo))$** \n",
    "\n",
    "Cuando una complejidad depende del *valor numérico* de la entrada, como en este caso de la suma, tiene una complejidad *pseudo-polinómica* (siempre y cuando sea complejidad polinómica, obviamente). \n",
    "\n",
    "Esto es en contraste a cuando se depende de la *longitud* de la entrada, por ejemplo cuando se recorre un arreglo de n elementos enteros, técnicamente se habla de los n\\*sizeof(int) bytes que se usan para representarlo.\n",
    "\n",
    "También, este problema es NP-Completo (tanto NP como NP-Hard), ya que su verificación puede hacerse en tiempo polinómico pero no su resolución (NP) y porque se puede demostrar que todos los problema NP pueden ser reducidos a este (NP-Hard).\n",
    "\n",
    "Finalmente, y recalcando la importancia de diferenciar entre un *problema* y un *algoritmo*, un problema NP-completo con un algoritmo pseudo-polinómico como este se considera un algoritmo **debilmente NP-completo**."
   ]
  }
 ],
 "metadata": {
  "celltoolbar": "Slideshow",
  "kernelspec": {
   "display_name": "Python 3",
   "language": "python",
   "name": "python3"
  },
  "language_info": {
   "codemirror_mode": {
    "name": "ipython",
    "version": 3
   },
   "file_extension": ".py",
   "mimetype": "text/x-python",
   "name": "python",
   "nbconvert_exporter": "python",
   "pygments_lexer": "ipython3",
   "version": "3.5.2"
  },
  "toc": {
   "base_numbering": 1,
   "nav_menu": {},
   "number_sections": false,
   "sideBar": true,
   "skip_h1_title": false,
   "title_cell": "Table of Contents",
   "title_sidebar": "Contents",
   "toc_cell": false,
   "toc_position": {},
   "toc_section_display": true,
   "toc_window_display": false
  }
 },
 "nbformat": 4,
 "nbformat_minor": 2
}
