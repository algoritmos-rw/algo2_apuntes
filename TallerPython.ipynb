{
 "cells": [
  {
   "cell_type": "markdown",
   "metadata": {
    "slideshow": {
     "slide_type": "slide"
    }
   },
   "source": [
    "## Un poco de Historia\n",
    "\n",
    "<center>![](img/python-logo.png)</center>"
   ]
  },
  {
   "cell_type": "markdown",
   "metadata": {
    "slideshow": {
     "slide_type": "subslide"
    }
   },
   "source": [
    "* Python fue creado a finales de los años 80 por un programador holandés llamado **Guido van Rossum**,\n",
    "quien sigue siendo aún hoy el líder del desarrollo del lenguaje.\n",
    "\n",
    "<center>![](img/python-creador.jpg)</center>"
   ]
  },
  {
   "cell_type": "markdown",
   "metadata": {
    "slideshow": {
     "slide_type": "subslide"
    }
   },
   "source": [
    "* El nombre del lenguaje proviene de los humoristas británicos Monty Python.\n",
    "\n",
    ">*\"I chose Python as a working title for the project, being in a slightly irreverent mood (and a big fan of Monty Python's Flying Circus).\"*\n",
    "\n",
    "<center>![](img/monty-python.jpg)</center>"
   ]
  },
  {
   "cell_type": "markdown",
   "metadata": {
    "slideshow": {
     "slide_type": "slide"
    }
   },
   "source": [
    "# Diferencias entre C y Python\n",
    "\n",
    "Lenguaje de programación C:\n",
    "- Compilado\n",
    "- Tipado estático\n",
    "- Procedural\n",
    "- Bajo nivel\n",
    "- Permite acceso a memoria de bajo nivel mediante punteros\n",
    "\n",
    "Python:\n",
    "- Interpretado\n",
    "- Tipado dinamico\n",
    "- Multiparadigma\n",
    "- Alto nivel\n",
    "- Tiene un recolector de basura (no hay malloc, free, realloc, etc)"
   ]
  },
  {
   "cell_type": "markdown",
   "metadata": {
    "slideshow": {
     "slide_type": "slide"
    }
   },
   "source": [
    "<center>\n",
    "<h3> Python 2.x vs Python 3.x </h3>\n",
    "![](img/python-2-vs-python-3.jpg)\n",
    "</center>"
   ]
  },
  {
   "cell_type": "markdown",
   "metadata": {
    "slideshow": {
     "slide_type": "slide"
    }
   },
   "source": [
    "# La filosofía de Python"
   ]
  },
  {
   "cell_type": "code",
   "execution_count": 1,
   "metadata": {
    "collapsed": false,
    "scrolled": true,
    "slideshow": {
     "slide_type": "slide"
    }
   },
   "outputs": [
    {
     "name": "stdout",
     "output_type": "stream",
     "text": [
      "The Zen of Python, by Tim Peters\n",
      "\n",
      "Beautiful is better than ugly.\n",
      "Explicit is better than implicit.\n",
      "Simple is better than complex.\n",
      "Complex is better than complicated.\n",
      "Flat is better than nested.\n",
      "Sparse is better than dense.\n",
      "Readability counts.\n",
      "Special cases aren't special enough to break the rules.\n",
      "Although practicality beats purity.\n",
      "Errors should never pass silently.\n",
      "Unless explicitly silenced.\n",
      "In the face of ambiguity, refuse the temptation to guess.\n",
      "There should be one-- and preferably only one --obvious way to do it.\n",
      "Although that way may not be obvious at first unless you're Dutch.\n",
      "Now is better than never.\n",
      "Although never is often better than *right* now.\n",
      "If the implementation is hard to explain, it's a bad idea.\n",
      "If the implementation is easy to explain, it may be a good idea.\n",
      "Namespaces are one honking great idea -- let's do more of those!\n"
     ]
    }
   ],
   "source": [
    "import this"
   ]
  },
  {
   "cell_type": "markdown",
   "metadata": {
    "slideshow": {
     "slide_type": "slide"
    }
   },
   "source": [
    "# Conocimientos Básicos de Python"
   ]
  },
  {
   "cell_type": "code",
   "execution_count": 2,
   "metadata": {
    "collapsed": false,
    "slideshow": {
     "slide_type": "slide"
    }
   },
   "outputs": [
    {
     "name": "stdout",
     "output_type": "stream",
     "text": [
      "Hello World!\n"
     ]
    }
   ],
   "source": [
    "'''Este es un comentario'''\n",
    "print(\"Hello World!\") # Este es un comentario en linea"
   ]
  },
  {
   "cell_type": "code",
   "execution_count": 40,
   "metadata": {
    "collapsed": false,
    "slideshow": {
     "slide_type": "slide"
    }
   },
   "outputs": [
    {
     "name": "stdout",
     "output_type": "stream",
     "text": [
      "Hola\n",
      "1\n",
      "1.0\n",
      "(1, 1.0)\n",
      "(1, 1.0, 'Hola')\n",
      "[1, 1.0, 'Hola']\n",
      "{50: (1, 1.0, 'Hola'), '3': 1, '1': (1, 1.0)}\n",
      "{1, 2}\n"
     ]
    }
   ],
   "source": [
    "# Declaración de variables\n",
    "string = 'Hola'\n",
    "print(string)\n",
    "entero = 1\n",
    "print(entero)\n",
    "flotante = 1.0\n",
    "print(flotante)\n",
    "tupla = (entero,flotante)\n",
    "print(tupla)\n",
    "nupla = (entero,flotante,string)\n",
    "print(nupla)\n",
    "lista = [entero,flotante,string]\n",
    "print(lista)\n",
    "diccionario = {'1':tupla,50:nupla,'3':entero}\n",
    "print(diccionario)\n",
    "conjunto = set([1,2])\n",
    "print(conjunto)"
   ]
  },
  {
   "cell_type": "code",
   "execution_count": 6,
   "metadata": {
    "collapsed": false
   },
   "outputs": [
    {
     "name": "stdout",
     "output_type": "stream",
     "text": [
      "1\n",
      "<class 'int'>\n",
      "uno\n",
      "<class 'str'>\n"
     ]
    }
   ],
   "source": [
    "# Pueden cambiar de tipo\n",
    "elemento = 1\n",
    "print(elemento) \n",
    "print(type(elemento))\n",
    "elemento = \"uno\"\n",
    "print(elemento)\n",
    "print(type(elemento))"
   ]
  },
  {
   "cell_type": "markdown",
   "metadata": {
    "slideshow": {
     "slide_type": "slide"
    }
   },
   "source": [
    "# Funciones en Python"
   ]
  },
  {
   "cell_type": "code",
   "execution_count": 11,
   "metadata": {
    "collapsed": false,
    "slideshow": {
     "slide_type": "slide"
    }
   },
   "outputs": [
    {
     "name": "stdout",
     "output_type": "stream",
     "text": [
      "3\n",
      "3.0\n",
      "3.0\n",
      "hola como te va\n",
      "[1, 2, 3, 4, 5]\n"
     ]
    },
    {
     "ename": "TypeError",
     "evalue": "Can't convert 'int' object to str implicitly",
     "output_type": "error",
     "traceback": [
      "\u001b[0;31m---------------------------------------------------------------------------\u001b[0m",
      "\u001b[0;31mTypeError\u001b[0m                                 Traceback (most recent call last)",
      "\u001b[0;32m<ipython-input-11-550be72e5e44>\u001b[0m in \u001b[0;36m<module>\u001b[0;34m()\u001b[0m\n\u001b[1;32m      8\u001b[0m \u001b[0mprint\u001b[0m\u001b[0;34m(\u001b[0m\u001b[0msuma\u001b[0m\u001b[0;34m(\u001b[0m\u001b[0;34m\"hola \"\u001b[0m\u001b[0;34m,\u001b[0m\u001b[0;34m\"como te va\"\u001b[0m\u001b[0;34m)\u001b[0m\u001b[0;34m)\u001b[0m\u001b[0;34m\u001b[0m\u001b[0m\n\u001b[1;32m      9\u001b[0m \u001b[0mprint\u001b[0m\u001b[0;34m(\u001b[0m\u001b[0msuma\u001b[0m\u001b[0;34m(\u001b[0m\u001b[0;34m[\u001b[0m\u001b[0;36m1\u001b[0m\u001b[0;34m,\u001b[0m\u001b[0;36m2\u001b[0m\u001b[0;34m,\u001b[0m\u001b[0;36m3\u001b[0m\u001b[0;34m]\u001b[0m\u001b[0;34m,\u001b[0m\u001b[0;34m[\u001b[0m\u001b[0;36m4\u001b[0m\u001b[0;34m,\u001b[0m\u001b[0;36m5\u001b[0m\u001b[0;34m]\u001b[0m\u001b[0;34m)\u001b[0m\u001b[0;34m)\u001b[0m\u001b[0;34m\u001b[0m\u001b[0m\n\u001b[0;32m---> 10\u001b[0;31m \u001b[0mprint\u001b[0m\u001b[0;34m(\u001b[0m\u001b[0msuma\u001b[0m\u001b[0;34m(\u001b[0m\u001b[0;34m\"1\"\u001b[0m\u001b[0;34m,\u001b[0m\u001b[0;36m3\u001b[0m\u001b[0;34m)\u001b[0m\u001b[0;34m)\u001b[0m \u001b[0;31m#Falla\u001b[0m\u001b[0;34m\u001b[0m\u001b[0m\n\u001b[0m",
      "\u001b[0;32m<ipython-input-11-550be72e5e44>\u001b[0m in \u001b[0;36msuma\u001b[0;34m(a, b)\u001b[0m\n\u001b[1;32m      1\u001b[0m \u001b[0;31m#Definir una función\u001b[0m\u001b[0;34m\u001b[0m\u001b[0;34m\u001b[0m\u001b[0m\n\u001b[1;32m      2\u001b[0m \u001b[0;32mdef\u001b[0m \u001b[0msuma\u001b[0m\u001b[0;34m(\u001b[0m\u001b[0ma\u001b[0m\u001b[0;34m=\u001b[0m\u001b[0;32mNone\u001b[0m\u001b[0;34m,\u001b[0m\u001b[0mb\u001b[0m\u001b[0;34m=\u001b[0m\u001b[0;32mNone\u001b[0m\u001b[0;34m)\u001b[0m\u001b[0;34m:\u001b[0m\u001b[0;34m\u001b[0m\u001b[0m\n\u001b[0;32m----> 3\u001b[0;31m     \u001b[0;32mreturn\u001b[0m \u001b[0ma\u001b[0m\u001b[0;34m+\u001b[0m\u001b[0mb\u001b[0m\u001b[0;34m\u001b[0m\u001b[0m\n\u001b[0m\u001b[1;32m      4\u001b[0m \u001b[0;34m\u001b[0m\u001b[0m\n\u001b[1;32m      5\u001b[0m \u001b[0mprint\u001b[0m\u001b[0;34m(\u001b[0m\u001b[0msuma\u001b[0m\u001b[0;34m(\u001b[0m\u001b[0;36m1\u001b[0m\u001b[0;34m,\u001b[0m\u001b[0;36m2\u001b[0m\u001b[0;34m)\u001b[0m\u001b[0;34m)\u001b[0m\u001b[0;34m\u001b[0m\u001b[0m\n",
      "\u001b[0;31mTypeError\u001b[0m: Can't convert 'int' object to str implicitly"
     ]
    }
   ],
   "source": [
    "# Definir una función\n",
    "def suma(a,b):\n",
    "    return a+b\n",
    "\n",
    "print(suma(1,2))\n",
    "print(suma(1.0,2.0))\n",
    "print(suma(1.0,2))\n",
    "print(suma(\"hola \",\"como te va\"))\n",
    "print(suma([1,2,3],[4,5]))\n",
    "print(suma(\"1\",3)) # Falla"
   ]
  },
  {
   "cell_type": "code",
   "execution_count": 16,
   "metadata": {
    "collapsed": false
   },
   "outputs": [
    {
     "name": "stdout",
     "output_type": "stream",
     "text": [
      "4.0\n",
      "0.5\n",
      "0.5\n",
      "0.5\n"
     ]
    }
   ],
   "source": [
    "# El valor por default de divisor es 1\n",
    "def division(dividendo,divisor=1):\n",
    "    return dividendo/divisor\n",
    "\n",
    "print(division(4)) # Usa el valor por default\n",
    "print(division(1,2)) # Parámetros por orden\n",
    "print(division(dividendo=1,divisor=2)) # Parámetros por nombre\n",
    "print(division(divisor=2,dividendo=1))"
   ]
  },
  {
   "cell_type": "markdown",
   "metadata": {
    "slideshow": {
     "slide_type": "slide"
    }
   },
   "source": [
    "# Diferencia entre lista y tupla\n",
    "Las listas se caracterizan por ser mutables, es decir, se puede cambiar su contenido en tiempo de ejecución, mientras que las tuplas son inmutables ya que no es posible modificar el contenido una vez creada."
   ]
  },
  {
   "cell_type": "markdown",
   "metadata": {
    "slideshow": {
     "slide_type": "slide"
    }
   },
   "source": [
    "# Listas de Python"
   ]
  },
  {
   "cell_type": "code",
   "execution_count": 46,
   "metadata": {
    "collapsed": false,
    "slideshow": {
     "slide_type": "slide"
    }
   },
   "outputs": [
    {
     "name": "stdout",
     "output_type": "stream",
     "text": [
      "[1, 'dos', 10, 3.0]\n",
      "10\n",
      "3.0\n"
     ]
    },
    {
     "ename": "IndexError",
     "evalue": "list index out of range",
     "output_type": "error",
     "traceback": [
      "\u001b[0;31m---------------------------------------------------------------------------\u001b[0m",
      "\u001b[0;31mIndexError\u001b[0m                                Traceback (most recent call last)",
      "\u001b[0;32m<ipython-input-46-dd82e85edb85>\u001b[0m in \u001b[0;36m<module>\u001b[0;34m()\u001b[0m\n\u001b[1;32m     11\u001b[0m \u001b[0mprint\u001b[0m\u001b[0;34m(\u001b[0m\u001b[0mlista\u001b[0m\u001b[0;34m[\u001b[0m\u001b[0;36m2\u001b[0m\u001b[0;34m]\u001b[0m\u001b[0;34m)\u001b[0m \u001b[0;31m#Imprimo elemento en la posición 2\u001b[0m\u001b[0;34m\u001b[0m\u001b[0m\n\u001b[1;32m     12\u001b[0m \u001b[0mprint\u001b[0m\u001b[0;34m(\u001b[0m\u001b[0mlista\u001b[0m\u001b[0;34m[\u001b[0m\u001b[0;34m-\u001b[0m\u001b[0;36m1\u001b[0m\u001b[0;34m]\u001b[0m\u001b[0;34m)\u001b[0m \u001b[0;31m#Imprimo elemento en la última posición\u001b[0m\u001b[0;34m\u001b[0m\u001b[0m\n\u001b[0;32m---> 13\u001b[0;31m \u001b[0mprint\u001b[0m\u001b[0;34m(\u001b[0m\u001b[0mlista\u001b[0m\u001b[0;34m[\u001b[0m\u001b[0;36m10\u001b[0m\u001b[0;34m]\u001b[0m\u001b[0;34m)\u001b[0m \u001b[0;31m#Falla\u001b[0m\u001b[0;34m\u001b[0m\u001b[0m\n\u001b[0m",
      "\u001b[0;31mIndexError\u001b[0m: list index out of range"
     ]
    }
   ],
   "source": [
    "# Como hacer una lista\n",
    "lista = [] # A modo de ejemplo llamamos a la lista \"lista\", pero no deben llamar a las variables por su tipo\n",
    "\n",
    "# Como agregar cosas a la lista\n",
    "lista.append(1) # Inserto un 1 al final\n",
    "lista.append(\"dos\") # Inserto un \"dos\" al final\n",
    "lista.append(3.0) # Inserto un 3.0 al final\n",
    "lista.insert(2,10) # Inserto en posicion 2 un 10\n",
    "print(lista)\n",
    "\n",
    "print(lista[2]) # Imprimo elemento en la posición 2\n",
    "print(lista[-1]) # Imprimo elemento en la última posición\n",
    "print(lista[10]) # Falla"
   ]
  },
  {
   "cell_type": "code",
   "execution_count": 47,
   "metadata": {
    "collapsed": false
   },
   "outputs": [
    {
     "name": "stdout",
     "output_type": "stream",
     "text": [
      "Primera iteración\n",
      "\t 1\n",
      "\t dos\n",
      "\t 10\n",
      "\t 3.0\n",
      "Segunda iteración\n",
      "\tIndice: 0\n",
      "\tValor: 1\n",
      "\tIndice: 1\n",
      "\tValor: dos\n",
      "\tIndice: 2\n",
      "\tValor: 10\n",
      "\tIndice: 3\n",
      "\tValor: 3.0\n",
      "Tercera iteración\n",
      "\t 1\n",
      "\t dos\n",
      "Cuarta iteración\n",
      "\t 1\n",
      "\t dos\n",
      "\t 10\n",
      "\t 3.0\n",
      "['dos', 10, 3.0]\n",
      "10\n",
      "['dos', 3.0]\n"
     ]
    }
   ],
   "source": [
    "# Como iterar una lista elemento por elemento\n",
    "print(\"Primera iteración\")\n",
    "for elemento in lista:\n",
    "    print (\"\\t\",elemento)\n",
    "\n",
    "print(\"Segunda iteración\")\n",
    "for i, elemento in enumerate(lista):\n",
    "    print(\"\\tIndice:\",i)\n",
    "    print(\"\\tValor:\",elemento)\n",
    "    \n",
    "# Como hacer un ciclo for que recorra la lista\n",
    "print(\"Tercera iteración\")\n",
    "for i in range(0,2):\n",
    "    print(\"\\t\",lista[i])\n",
    "\n",
    "# Como hacer un ciclo while que recorra la lista\n",
    "print(\"Cuarta iteración\")\n",
    "i = 0\n",
    "while i<len(lista):\n",
    "    print(\"\\t\",lista[i])\n",
    "    i+=1 # No se puede hacer i++ o ++i\n",
    "\n",
    "# Como remover por elemento\n",
    "lista.remove(1) # Elimina la primer aparición de 1\n",
    "print(lista)\n",
    "\n",
    "# Como remover por posicion\n",
    "elemento = lista.pop(1) # Elimina el elemento en la posición pasada por parámetro\n",
    "                        # si no se le pasa nada elimina el último\n",
    "print(elemento)\n",
    "print(lista)"
   ]
  },
  {
   "cell_type": "markdown",
   "metadata": {},
   "source": [
    "# Condicionales (if...elif...else)\n",
    "\n",
    "```\n",
    "if <condición_1>:\n",
    "    <hacer algo_1 si se da la condición_1>\n",
    "elif <condición_2>:\n",
    "    <hacer algo_2 si se da la condición_2>\n",
    "...\n",
    "elif <condición_n>:\n",
    "    <hacer algo_n si se da la condición_n>\n",
    "else:\n",
    "    <hacer otra cosa si no dan las anteriores>\n",
    "```\n",
    "\n"
   ]
  },
  {
   "cell_type": "code",
   "execution_count": 48,
   "metadata": {
    "collapsed": false,
    "slideshow": {
     "slide_type": "slide"
    }
   },
   "outputs": [
    {
     "name": "stdout",
     "output_type": "stream",
     "text": [
      "True\n",
      "False\n"
     ]
    }
   ],
   "source": [
    "def busqueda_binaria(lista, elemento):\n",
    "    # not equivale a ! en C\n",
    "    # True y False empiezan con mayúscula\n",
    "    if not lista: return False\n",
    "    elif len(lista) == 1: # len(lista) devuelve el largo de la lista\n",
    "        return lista[0] == elemento\n",
    "    mitad = len(lista)//2 # // es la operación división entera\n",
    "    if lista[mitad] == elemento: return True\n",
    "    if lista[mitad]>elemento:\n",
    "        return busqueda_binaria(lista[:mitad],elemento)\n",
    "    if lista[mitad]<elemento:\n",
    "        return busqueda_binaria(lista[mitad:],elemento)\n",
    "    \n",
    "print(busqueda_binaria([1,2,3,4,5],4))\n",
    "print(busqueda_binaria([1,4,6,7,9,10],2))"
   ]
  },
  {
   "cell_type": "markdown",
   "metadata": {},
   "source": [
    "# Slices\n",
    "\n",
    "**Valen para listas, tuplas o strings (_segmentos_)**"
   ]
  },
  {
   "cell_type": "code",
   "execution_count": 32,
   "metadata": {
    "collapsed": false
   },
   "outputs": [
    {
     "name": "stdout",
     "output_type": "stream",
     "text": [
      "[1, 2]\n",
      "[7, 8]\n",
      "[1, 2, 3, 4, 5, 6, 7, 8, 9, 10]\n",
      "[1, 2, 3]\n",
      "[4, 5, 6, 7, 8, 9, 10]\n",
      "[1, 3, 5, 7, 9]\n",
      "[10, 9, 8, 7, 6, 5, 4, 3, 2, 1]\n"
     ]
    }
   ],
   "source": [
    "numeros = [1,2,3,4,5,6,7,8,9,10]\n",
    "print(numeros[0:2])\n",
    "print(numeros[-4:-2])\n",
    "print(numeros[0:80]) \n",
    "print(numeros[:3])\n",
    "print(numeros[3:])\n",
    "print(numeros[::2])\n",
    "\n",
    "numeros = numeros[::-1]\n",
    "print(numeros)"
   ]
  },
  {
   "cell_type": "markdown",
   "metadata": {
    "slideshow": {
     "slide_type": "slide"
    }
   },
   "source": [
    "# Diccionarios de Python\n",
    "\n",
    "Son como hashmaps, las claves deben ser inmutables para que no pierda sentido el diccionario. Si se pudieran modificar, se podría cambiar las claves y podría generar conflictos.\n",
    "\n",
    "Tipos mutables:\n",
    "- Listas\n",
    "- Diccionarios\n",
    "- Sets\n",
    "\n",
    "Tipos inmutables:\n",
    "- Int\n",
    "- Float\n",
    "- String\n",
    "- Tuplas\n"
   ]
  },
  {
   "cell_type": "code",
   "execution_count": 17,
   "metadata": {
    "collapsed": false
   },
   "outputs": [
    {
     "data": {
      "text/plain": [
       "'H'"
      ]
     },
     "execution_count": 17,
     "metadata": {},
     "output_type": "execute_result"
    }
   ],
   "source": [
    "cad = \"Hola\"\n",
    "cad[0]"
   ]
  },
  {
   "cell_type": "code",
   "execution_count": 49,
   "metadata": {
    "collapsed": false,
    "slideshow": {
     "slide_type": "slide"
    }
   },
   "outputs": [
    {
     "name": "stdout",
     "output_type": "stream",
     "text": [
      "{'clave1': 'valor1', 2: 'valor2', 'clave3': 3}\n",
      "3\n",
      "True\n",
      "Primera iteración\n",
      "\tClave: clave1\n",
      "\tValor: valor1\n",
      "\tClave: 2\n",
      "\tValor: valor2\n",
      "\tClave: clave3\n",
      "\tValor: 3\n",
      "Segunda iteración: claves\n",
      "\tclave1\n",
      "\t2\n",
      "\tclave3\n",
      "Tercera iteración: valores\n",
      "\tvalor1\n",
      "\tvalor2\n",
      "\t3\n"
     ]
    }
   ],
   "source": [
    "# Cómo hacer un diccionario\n",
    "diccionario = {}\n",
    "\n",
    "# Cómo agregar cosas al diccionario\n",
    "diccionario['clave1'] = 'valor1'\n",
    "diccionario[2] = 'valor2'\n",
    "diccionario['clave3'] = 3\n",
    "print(diccionario)\n",
    "\n",
    "# [('clave1','valor1'),('clave2','valor2'),('clave3',3)]\n",
    "print(diccionario.get('clave3',2))  # Equivalente a diccionario['clave3']\n",
    "                                    # pero en caso de no tener la clave, devuelve\n",
    "                                    # un elemento por default (en este caso 2)\n",
    "\n",
    "print ('clave1' in diccionario) # Verifico si la clave está en el diccionario\n",
    "\n",
    "# Cómo iterar un diccionario elemento por elemento\n",
    "print(\"Primera iteración\")\n",
    "for clave,valor in diccionario.items(): # diccionario.items() va devolviendo tuplas con el formato (clave,valor)\n",
    "                                        # con esta sintaxis se desempaquetan en clave y valor (similar a enumerate)\n",
    "    print(\"\\tClave: \" + str(clave))\n",
    "    print(\"\\tValor: \" + str(valor))\n",
    "    \n",
    "print(\"Segunda iteración: claves\")\n",
    "for clave in diccionario.keys():\n",
    "    print(\"\\t\"+str(clave))\n",
    "    \n",
    "print(\"Tercera iteración: valores\")\n",
    "for valor in diccionario.values():\n",
    "    print(\"\\t\"+str(valor))"
   ]
  },
  {
   "cell_type": "markdown",
   "metadata": {},
   "source": [
    "# Sets\n",
    "\n",
    "Son similares a los diccionarios pero se almacenan solo claves, y tienen algunas operaciones particulares."
   ]
  },
  {
   "cell_type": "code",
   "execution_count": 51,
   "metadata": {
    "collapsed": false,
    "scrolled": false
   },
   "outputs": [
    {
     "name": "stdout",
     "output_type": "stream",
     "text": [
      "Help on class set in module builtins:\n",
      "\n",
      "class set(object)\n",
      " |  set() -> new empty set object\n",
      " |  set(iterable) -> new set object\n",
      " |  \n",
      " |  Build an unordered collection of unique elements.\n",
      " |  \n",
      " |  Methods defined here:\n",
      " |  \n",
      " |  __and__(self, value, /)\n",
      " |      Return self&value.\n",
      " |  \n",
      " |  __contains__(...)\n",
      " |      x.__contains__(y) <==> y in x.\n",
      " |  \n",
      " |  __eq__(self, value, /)\n",
      " |      Return self==value.\n",
      " |  \n",
      " |  __ge__(self, value, /)\n",
      " |      Return self>=value.\n",
      " |  \n",
      " |  __getattribute__(self, name, /)\n",
      " |      Return getattr(self, name).\n",
      " |  \n",
      " |  __gt__(self, value, /)\n",
      " |      Return self>value.\n",
      " |  \n",
      " |  __iand__(self, value, /)\n",
      " |      Return self&=value.\n",
      " |  \n",
      " |  __init__(self, /, *args, **kwargs)\n",
      " |      Initialize self.  See help(type(self)) for accurate signature.\n",
      " |  \n",
      " |  __ior__(self, value, /)\n",
      " |      Return self|=value.\n",
      " |  \n",
      " |  __isub__(self, value, /)\n",
      " |      Return self-=value.\n",
      " |  \n",
      " |  __iter__(self, /)\n",
      " |      Implement iter(self).\n",
      " |  \n",
      " |  __ixor__(self, value, /)\n",
      " |      Return self^=value.\n",
      " |  \n",
      " |  __le__(self, value, /)\n",
      " |      Return self<=value.\n",
      " |  \n",
      " |  __len__(self, /)\n",
      " |      Return len(self).\n",
      " |  \n",
      " |  __lt__(self, value, /)\n",
      " |      Return self<value.\n",
      " |  \n",
      " |  __ne__(self, value, /)\n",
      " |      Return self!=value.\n",
      " |  \n",
      " |  __new__(*args, **kwargs) from builtins.type\n",
      " |      Create and return a new object.  See help(type) for accurate signature.\n",
      " |  \n",
      " |  __or__(self, value, /)\n",
      " |      Return self|value.\n",
      " |  \n",
      " |  __rand__(self, value, /)\n",
      " |      Return value&self.\n",
      " |  \n",
      " |  __reduce__(...)\n",
      " |      Return state information for pickling.\n",
      " |  \n",
      " |  __repr__(self, /)\n",
      " |      Return repr(self).\n",
      " |  \n",
      " |  __ror__(self, value, /)\n",
      " |      Return value|self.\n",
      " |  \n",
      " |  __rsub__(self, value, /)\n",
      " |      Return value-self.\n",
      " |  \n",
      " |  __rxor__(self, value, /)\n",
      " |      Return value^self.\n",
      " |  \n",
      " |  __sizeof__(...)\n",
      " |      S.__sizeof__() -> size of S in memory, in bytes\n",
      " |  \n",
      " |  __sub__(self, value, /)\n",
      " |      Return self-value.\n",
      " |  \n",
      " |  __xor__(self, value, /)\n",
      " |      Return self^value.\n",
      " |  \n",
      " |  add(...)\n",
      " |      Add an element to a set.\n",
      " |      \n",
      " |      This has no effect if the element is already present.\n",
      " |  \n",
      " |  clear(...)\n",
      " |      Remove all elements from this set.\n",
      " |  \n",
      " |  copy(...)\n",
      " |      Return a shallow copy of a set.\n",
      " |  \n",
      " |  difference(...)\n",
      " |      Return the difference of two or more sets as a new set.\n",
      " |      \n",
      " |      (i.e. all elements that are in this set but not the others.)\n",
      " |  \n",
      " |  difference_update(...)\n",
      " |      Remove all elements of another set from this set.\n",
      " |  \n",
      " |  discard(...)\n",
      " |      Remove an element from a set if it is a member.\n",
      " |      \n",
      " |      If the element is not a member, do nothing.\n",
      " |  \n",
      " |  intersection(...)\n",
      " |      Return the intersection of two sets as a new set.\n",
      " |      \n",
      " |      (i.e. all elements that are in both sets.)\n",
      " |  \n",
      " |  intersection_update(...)\n",
      " |      Update a set with the intersection of itself and another.\n",
      " |  \n",
      " |  isdisjoint(...)\n",
      " |      Return True if two sets have a null intersection.\n",
      " |  \n",
      " |  issubset(...)\n",
      " |      Report whether another set contains this set.\n",
      " |  \n",
      " |  issuperset(...)\n",
      " |      Report whether this set contains another set.\n",
      " |  \n",
      " |  pop(...)\n",
      " |      Remove and return an arbitrary set element.\n",
      " |      Raises KeyError if the set is empty.\n",
      " |  \n",
      " |  remove(...)\n",
      " |      Remove an element from a set; it must be a member.\n",
      " |      \n",
      " |      If the element is not a member, raise a KeyError.\n",
      " |  \n",
      " |  symmetric_difference(...)\n",
      " |      Return the symmetric difference of two sets as a new set.\n",
      " |      \n",
      " |      (i.e. all elements that are in exactly one of the sets.)\n",
      " |  \n",
      " |  symmetric_difference_update(...)\n",
      " |      Update a set with the symmetric difference of itself and another.\n",
      " |  \n",
      " |  union(...)\n",
      " |      Return the union of sets as a new set.\n",
      " |      \n",
      " |      (i.e. all elements that are in either set.)\n",
      " |  \n",
      " |  update(...)\n",
      " |      Update a set with the union of itself and others.\n",
      " |  \n",
      " |  ----------------------------------------------------------------------\n",
      " |  Data and other attributes defined here:\n",
      " |  \n",
      " |  __hash__ = None\n",
      "\n"
     ]
    }
   ],
   "source": [
    "help(\"set\")"
   ]
  },
  {
   "cell_type": "markdown",
   "metadata": {
    "slideshow": {
     "slide_type": "slide"
    }
   },
   "source": [
    "# Lectura y escritura de archivos"
   ]
  },
  {
   "cell_type": "code",
   "execution_count": 62,
   "metadata": {
    "collapsed": false,
    "slideshow": {
     "slide_type": "slide"
    }
   },
   "outputs": [
    {
     "name": "stdout",
     "output_type": "stream",
     "text": [
      "<_io.TextIOWrapper name='archivo.csv' mode='w' encoding='UTF-8'>\n"
     ]
    }
   ],
   "source": [
    "import random\n",
    "with open('archivo.csv','w') as archivo: # Al usar esta sintaxis no es necesario hacer close\n",
    "    archivo.write(\"Alumno, nota\\n\")\n",
    "    # Tambien de forma similar al fprintf se puede hacer:\n",
    "    # print(\"Alumno, nota\\n\", file=archivo)\n",
    "    for i in range(0,10):\n",
    "        archivo.write(str(i) + \",\" + str(random.randrange(0,10))+\"\\n\")\n",
    "\n",
    "print(archivo)  # Comentario aclaratorio:\n",
    "                # Las variables definidas en un determinado scope siguen existiendo por fuera del mismo.\n",
    "                # Se debe tener cuidado con esto, ya que nada garantiza que por fuera el valor sea el esperado."
   ]
  },
  {
   "cell_type": "code",
   "execution_count": 63,
   "metadata": {
    "collapsed": false,
    "slideshow": {
     "slide_type": "slide"
    }
   },
   "outputs": [
    {
     "name": "stdout",
     "output_type": "stream",
     "text": [
      "Alumno, nota\n",
      "\n",
      "0,5\n",
      "\n",
      "1,3\n",
      "\n",
      "2,4\n",
      "\n",
      "3,8\n",
      "\n",
      "4,4\n",
      "\n",
      "5,2\n",
      "\n",
      "6,4\n",
      "\n",
      "7,0\n",
      "\n",
      "8,4\n",
      "\n",
      "9,9\n",
      "\n"
     ]
    }
   ],
   "source": [
    "with open('archivo.csv','r') as f:\n",
    "    for linea in f:\n",
    "        print(linea)\n",
    "#        print(linea, end=\"\") # Reemplaza \"\\n\" por \"\""
   ]
  },
  {
   "cell_type": "markdown",
   "metadata": {
    "slideshow": {
     "slide_type": "slide"
    }
   },
   "source": [
    "# Archivos CSV"
   ]
  },
  {
   "cell_type": "code",
   "execution_count": 66,
   "metadata": {
    "collapsed": false,
    "slideshow": {
     "slide_type": "slide"
    }
   },
   "outputs": [
    {
     "name": "stdout",
     "output_type": "stream",
     "text": [
      "{' nota': '5', 'Alumno': '0'}\n",
      "{' nota': '3', 'Alumno': '1'}\n",
      "{' nota': '4', 'Alumno': '2'}\n",
      "{' nota': '8', 'Alumno': '3'}\n",
      "{' nota': '4', 'Alumno': '4'}\n",
      "{' nota': '2', 'Alumno': '5'}\n",
      "{' nota': '4', 'Alumno': '6'}\n",
      "{' nota': '0', 'Alumno': '7'}\n",
      "{' nota': '4', 'Alumno': '8'}\n",
      "{' nota': '9', 'Alumno': '9'}\n"
     ]
    }
   ],
   "source": [
    "import csv\n",
    "with open('archivo.csv','r') as f:\n",
    "    f_reader = csv.DictReader(f,delimiter=',')\n",
    "    #f_reader = csv.reader(f,delimiter = ',') # Devuelve lista de elementos\n",
    "    for row in f_reader:\n",
    "        print(row)"
   ]
  },
  {
   "cell_type": "code",
   "execution_count": 60,
   "metadata": {
    "collapsed": true,
    "slideshow": {
     "slide_type": "slide"
    }
   },
   "outputs": [],
   "source": [
    "from csv import writer as writerPiola\n",
    "with open('archivo.csv','w') as f:\n",
    "    f_writer = writerPiola(f,delimiter=',')\n",
    "    f_writer.writerow([1,2])\n",
    "    f_writer.writerow([2,3])\n",
    "    f_writer.writerow([4,5])"
   ]
  },
  {
   "cell_type": "markdown",
   "metadata": {},
   "source": [
    "# Split y Join\n",
    "\n",
    "- Split: opera sobre un string, recibe un delimitador, y devuelve una lista de fragmentos del string delimitados por el delimitador.\n",
    "- Join: opera sobre un string (delimitador), recibe una lista de strings, y devuelve un string de los fragmentos unidos por el delimitador."
   ]
  },
  {
   "cell_type": "code",
   "execution_count": 76,
   "metadata": {
    "collapsed": false
   },
   "outputs": [
    {
     "name": "stdout",
     "output_type": "stream",
     "text": [
      "['hola', ' don', ' pepito']\n",
      "hola don pepito\n"
     ]
    }
   ],
   "source": [
    "separadas = \"hola, don, pepito\".split(\",\")\n",
    "print(separadas)\n",
    "unidas = \"\".join(separadas)\n",
    "print(unidas)"
   ]
  },
  {
   "cell_type": "markdown",
   "metadata": {
    "slideshow": {
     "slide_type": "slide"
    }
   },
   "source": [
    "# Objetos\n",
    "\n",
    "Los objetos tiene metodos y atributos:\n",
    "- Atributos: equivalentes a variables.\n",
    "- Métodos: equivalentes a las funciones.\n",
    "\n",
    "\n",
    "Se puede trazar una equivalencia entre los objetos y los structs de C, \"ambas son estructuras en las que se le pueden guardar cosas\".\n",
    "\n",
    "La clase de un objeto es el tipo.\n",
    "\n",
    "Por ejemplo:\n",
    "\n",
    "En C, para definir un nodo haciamos:"
   ]
  },
  {
   "cell_type": "markdown",
   "metadata": {
    "slideshow": {
     "slide_type": "slide"
    }
   },
   "source": [
    "```C\n",
    "typedef struct nodo {\n",
    "    void* dato;\n",
    "    struct nodo* siguiente;\n",
    "} nodo_t;\n",
    "```"
   ]
  },
  {
   "cell_type": "markdown",
   "metadata": {
    "slideshow": {
     "slide_type": "slide"
    }
   },
   "source": [
    "# Cómo creo una clase"
   ]
  },
  {
   "cell_type": "code",
   "execution_count": 77,
   "metadata": {
    "collapsed": true,
    "slideshow": {
     "slide_type": "slide"
    }
   },
   "outputs": [],
   "source": [
    "class Nodo (object):\n",
    "    \n",
    "    def __init__(self,dato,siguiente = None):\n",
    "        self.dato = dato\n",
    "        self.siguiente = siguiente\n",
    "            \n",
    "    def obtener_dato(self):\n",
    "        return self.dato;\n",
    "    \n",
    "    def proximo(self):\n",
    "        return self.siguiente\n",
    "\n",
    "    def __repr__(self):\n",
    "        return str(self.dato)\n",
    "    \n",
    "    def __str__(self):\n",
    "        return str(self.dato)"
   ]
  },
  {
   "cell_type": "code",
   "execution_count": 78,
   "metadata": {
    "collapsed": false,
    "slideshow": {
     "slide_type": "slide"
    }
   },
   "outputs": [
    {
     "name": "stdout",
     "output_type": "stream",
     "text": [
      "hola\n",
      "[hola, lala]\n",
      "hola\n"
     ]
    }
   ],
   "source": [
    "nodo = Nodo(\"hola\")\n",
    "print(nodo)\n",
    "nodo2 = Nodo(\"lala\")\n",
    "print([nodo,nodo2])\n",
    "nodo3 = nodo.obtener_dato()\n",
    "print(nodo3)"
   ]
  },
  {
   "cell_type": "markdown",
   "metadata": {
    "slideshow": {
     "slide_type": "slide"
    }
   },
   "source": [
    "# Ejemplo: Lista Enlazada"
   ]
  },
  {
   "cell_type": "code",
   "execution_count": 79,
   "metadata": {
    "collapsed": false,
    "slideshow": {
     "slide_type": "slide"
    }
   },
   "outputs": [
    {
     "name": "stdout",
     "output_type": "stream",
     "text": [
      "Primer primer Dato\n",
      "Primer primer Dato | Primer Dato | \n"
     ]
    }
   ],
   "source": [
    "class Lista_Enlazada(object):\n",
    "    \n",
    "    def __init__(self):\n",
    "        self.primero = None\n",
    "        self.ultimo = None\n",
    "        self.largo = 0\n",
    "    \n",
    "    def insertar_al_principio(self,dato):\n",
    "        nodo = Nodo(dato, self.primero)\n",
    "        self.primero = nodo\n",
    "        self.largo += 1\n",
    "        if self.largo == 1:\n",
    "            self.ultimo = nodo\n",
    "            \n",
    "    def insertar_al_final(self,dato):\n",
    "        if self.largo != 0:\n",
    "            nodo = Nodo(dato)\n",
    "            nodo_anterior = self.ultimo\n",
    "            nodo_anterior.siguiente = nodo\n",
    "            self.ultimo = nodo\n",
    "            self.largo += 1\n",
    "        else:\n",
    "            self.insertar_al_principio(dato)\n",
    "\n",
    "    def ver_primero(self):\n",
    "        return self.primero.obtener_dato();\n",
    "    \n",
    "    def borrar_primero(self):\n",
    "        dato = self.primero.obtener_dato()\n",
    "        self.primero = self.primero.siguiente\n",
    "        self.largo -= 1\n",
    "        if self.largo == 0:\n",
    "            self.ultimo = None\n",
    "        return dato\n",
    "            \n",
    "    def __str__(self):\n",
    "        cadena = \"\"\n",
    "        nodo_actual = self.primero\n",
    "        while nodo_actual is not None:\n",
    "            cadena += str(nodo_actual.obtener_dato())\n",
    "            cadena += \" | \"\n",
    "            nodo_actual = nodo_actual.siguiente\n",
    "        return cadena\n",
    "        \n",
    "        \n",
    "lista = Lista_Enlazada()\n",
    "lista.insertar_al_principio(\"Primer Dato\")\n",
    "lista.insertar_al_principio(\"Primer primer Dato\")\n",
    "elemento = lista.ver_primero()\n",
    "print(elemento)\n",
    "print(str(lista))"
   ]
  },
  {
   "cell_type": "markdown",
   "metadata": {
    "slideshow": {
     "slide_type": "slide"
    }
   },
   "source": [
    "# Librería para Heaps"
   ]
  },
  {
   "cell_type": "code",
   "execution_count": 4,
   "metadata": {
    "collapsed": false,
    "slideshow": {
     "slide_type": "slide"
    }
   },
   "outputs": [
    {
     "name": "stdout",
     "output_type": "stream",
     "text": [
      "[1, 2, 3, 7, 2, 20, 5]\n",
      "[1, 2, 3, 7, 2, 20, 5, 27]\n",
      "1\n",
      "[2, 2, 3, 7, 27, 20, 5]\n",
      "[2, 2, 3]\n"
     ]
    }
   ],
   "source": [
    "import heapq\n",
    "\n",
    "heap = [5,2,3,7,2,20,1]\n",
    "heapq.heapify(heap)\n",
    "print(heap)\n",
    "\n",
    "heapq.heappush(heap,27)\n",
    "print(heap)\n",
    "\n",
    "menor = heapq.heappop(heap)\n",
    "print(menor)\n",
    "print(heap)\n",
    "\n",
    "n_menores = heapq.nsmallest(3,heap)\n",
    "print(n_menores)\n"
   ]
  },
  {
   "cell_type": "markdown",
   "metadata": {},
   "source": [
    "# Y como hacer un Max-Heap"
   ]
  },
  {
   "cell_type": "code",
   "execution_count": 7,
   "metadata": {
    "collapsed": true
   },
   "outputs": [],
   "source": [
    "class Nodo_heap(object):\n",
    "    def __init__(self,dato):\n",
    "        self.dato = dato\n",
    "    \n",
    "    def obtener_valor():\n",
    "        return dato\n",
    "    \n",
    "    def __lt__(self, other):\n",
    "        return self.dato>other.dato\n",
    "    \n",
    "    def __gt__(self, other):\n",
    "        return self.dato<other.dato\n",
    "    \n",
    "    def __eq__(self, other):\n",
    "        return self.dato==other.dato\n",
    "\n",
    "    def __str__(self):\n",
    "        return str(self.dato)\n",
    "    \n",
    "    def __repr__(self):\n",
    "        return str(self.dato)"
   ]
  },
  {
   "cell_type": "code",
   "execution_count": 8,
   "metadata": {
    "collapsed": false,
    "scrolled": true
   },
   "outputs": [
    {
     "name": "stdout",
     "output_type": "stream",
     "text": [
      "[20, 7, 5, 2, 2, 3, 1]\n"
     ]
    }
   ],
   "source": [
    "heap = [Nodo_heap(5),Nodo_heap(2),Nodo_heap(3),Nodo_heap(7),Nodo_heap(2),Nodo_heap(20),Nodo_heap(1)]\n",
    "heapq.heapify(heap)\n",
    "print(heap)"
   ]
  },
  {
   "cell_type": "markdown",
   "metadata": {},
   "source": [
    "## Concepto de Cola\n",
    "\n",
    "El comportamiento de una cola se puede describir con la frase \"Lo primero que se encoló es lo primero que se usa\". Es decir, su estructura es **FIFO (First in, First out)**\n",
    "\n",
    "Suponiendo que implementamos una **cola** usando una **lista**. ¿Cómo se podría implementar? ¿Cuál sería el costo?\n",
    "\n",
    "**Opción 1:**\n",
    "   * enqueue encola al principio de la lista\n",
    "   * dequeue desencola del final de la lista\n",
    "    \n",
    "**Opción 2:**\n",
    "   * enqueue encola al final de la lista\n",
    "   * dequeue desencola del principio de la lista\n",
    "\n",
    "\n",
    "*Problema*: En el primer caso encolar y en el segundo caso desencolar del principio implica desplazar todo el contenido de la lista (en un sentido u otro). Esta operación es costosa, imaginense una lista muy grande!"
   ]
  },
  {
   "cell_type": "markdown",
   "metadata": {},
   "source": [
    "## Deque como Cola\n",
    "\n",
    "**Deque**: diseñado para appends y pops eficientes en ambos extremos\n",
    "\n",
    "\n",
    "* Operación encolar: se usa la función ```append()```\n",
    "* Operacion dequeue (desencolar): se usa la función ```popleft()```"
   ]
  },
  {
   "cell_type": "code",
   "execution_count": 85,
   "metadata": {
    "collapsed": false
   },
   "outputs": [
    {
     "name": "stdout",
     "output_type": "stream",
     "text": [
      "deque(['a', 'b', 'c'])\n",
      "deque(['a', 'b', 'c', 'd'])\n",
      "deque(['b', 'c', 'd'])\n",
      "<class 'collections.deque'>\n"
     ]
    }
   ],
   "source": [
    "from collections import deque\n",
    "\n",
    "queue = deque([\"a\", \"b\", \"c\"])\n",
    "print(queue)\n",
    "queue.append(\"d\")\n",
    "print(queue)\n",
    "queue.popleft()\n",
    "print(queue)\n",
    "print(type(queue))"
   ]
  }
 ],
 "metadata": {
  "anaconda-cloud": {},
  "kernelspec": {
   "display_name": "Python [default]",
   "language": "python",
   "name": "python3"
  },
  "language_info": {
   "codemirror_mode": {
    "name": "ipython",
    "version": 3
   },
   "file_extension": ".py",
   "mimetype": "text/x-python",
   "name": "python",
   "nbconvert_exporter": "python",
   "pygments_lexer": "ipython3",
   "version": "3.5.2"
  }
 },
 "nbformat": 4,
 "nbformat_minor": 1
}
